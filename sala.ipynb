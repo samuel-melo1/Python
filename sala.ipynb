{
  "nbformat": 4,
  "nbformat_minor": 0,
  "metadata": {
    "colab": {
      "provenance": [],
      "authorship_tag": "ABX9TyMcDUbl6JREyofYIXPaSz2D",
      "include_colab_link": true
    },
    "kernelspec": {
      "name": "python3",
      "display_name": "Python 3"
    },
    "language_info": {
      "name": "python"
    }
  },
  "cells": [
    {
      "cell_type": "markdown",
      "metadata": {
        "id": "view-in-github",
        "colab_type": "text"
      },
      "source": [
        "<a href=\"https://colab.research.google.com/github/samuel-melo1/Python/blob/main/sala.ipynb\" target=\"_parent\"><img src=\"https://colab.research.google.com/assets/colab-badge.svg\" alt=\"Open In Colab\"/></a>"
      ]
    },
    {
      "cell_type": "code",
      "source": [
        "x, y = 10, 20\n",
        "print(y,x)"
      ],
      "metadata": {
        "id": "DF4eS4BvXutp",
        "colab": {
          "base_uri": "https://localhost:8080/"
        },
        "outputId": "da83481e-f4ad-46a5-a23d-e44bc4b97b56"
      },
      "execution_count": 3,
      "outputs": [
        {
          "output_type": "stream",
          "name": "stdout",
          "text": [
            "20 10\n"
          ]
        }
      ]
    },
    {
      "cell_type": "code",
      "source": [
        "num1 = int(input(\"digite um valor: \"))\n",
        "num2 = int(input(\"digite um valor 2: \"))\n",
        "soma = num1 + num2\n",
        "print(soma)"
      ],
      "metadata": {
        "colab": {
          "base_uri": "https://localhost:8080/"
        },
        "id": "wiLYS9XtZETA",
        "outputId": "935ed84c-1fce-41aa-ae94-b8be6dbae29a"
      },
      "execution_count": 8,
      "outputs": [
        {
          "output_type": "stream",
          "name": "stdout",
          "text": [
            "digite um valor: 20\n",
            "digite um valor 2: 10\n",
            "30\n"
          ]
        }
      ]
    },
    {
      "cell_type": "code",
      "source": [
        "import time\n",
        "\n",
        "nome = input(\"Digite seu nome: \")\n",
        "anoNascimento = int(input(\"Ano de nascimento: \"))\n",
        "anoAtual = int(time.strftime(\"%Y\"))\n",
        "idade = anoAtual - anoNascimento\n",
        "print(idade)\n",
        "\n",
        "\n",
        "if idade >= 18 :\n",
        "    print(\"maior de idade\")\n",
        "else:\n",
        "    print(\"menor de idade\")\n"
      ],
      "metadata": {
        "colab": {
          "base_uri": "https://localhost:8080/"
        },
        "id": "yCIUKP0JaehV",
        "outputId": "2645c73c-c0d0-4df2-85a7-06c64f8d6e68"
      },
      "execution_count": 11,
      "outputs": [
        {
          "output_type": "stream",
          "name": "stdout",
          "text": [
            "Digite seu nome: samuel\n",
            "Ano de nascimento: 2004\n",
            "18\n",
            "maior de idade\n"
          ]
        }
      ]
    },
    {
      "cell_type": "code",
      "source": [],
      "metadata": {
        "id": "GP93FcR7cNo8"
      },
      "execution_count": null,
      "outputs": []
    }
  ]
}